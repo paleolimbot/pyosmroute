{
 "cells": [
  {
   "cell_type": "markdown",
   "metadata": {},
   "source": [
    "# PyOSMRoute\n",
    "\n",
    "## Installation\n",
    "\n",
    "The **Python 3** package `pyosmroute` depends on two Python modules: `numpy` and `psycopg2`. Both are available via `pip` (may be `pip3` on Mac). The interface to the `pyosmroute` package is the package itself, imported like any Python module, but for debugging it is usually easier to use the command line or R interfaces that are als provided\n",
    "\n",
    "### Setting up the OSM Database\n",
    "\n",
    "The second input needed by `pyosmroute` methods is a Postgres database created by [osm2pgsql](http://wiki.openstreetmap.org/wiki/Osm2pgsql). The input for this is a .pbf or .osm file acquired from the various distributors of OSM data on the web. It is accessible by country [here](http://download.gisgraphy.com/openstreetmap/pbf/). If multiple countries are desired, it is necessary to use the [Osmosis](http://wiki.openstreetmap.org/wiki/Osmosis) tool to merge together bordering countries (or overlapping PBF files). This can be done using the following command:\n",
    "\n",
    "```\n",
    "osmosis --readpbf my_file.pbf --read-pbf my_other_file.pbf --merge --write-pbf combined.pbf\n",
    "```\n",
    "\n",
    "Adding the PBF file to the database uses the following command:\n",
    "\n",
    "```\n",
    "osm2pgsql -s -C 1600 -H localhost -d DB_name -U DB_user -W combined.pbf\n",
    "```\n",
    "\n",
    "The most important argument is the **-s** parameter, which leaves a copy of the raw nodes/ways in the database. This data is used by the routing and matching function extensively. The **-C** parameter just specifies an amount of memory to be used (in MB). The **-W** parameter prompts for a password, so it may be desirable to have no password on this database for the preparation phase.\n",
    "\n",
    "\n",
    "## From the Command Line\n",
    "\n",
    "It's possible to use the `matchcsv.py` file (in this folder) from the command line to match CSVs and write/aggreate output. This is mostly useful for running the script from R, which has more interctive capabilities for mapping. The usage for the command line interface looks like this:\n",
    "\n",
    "```\n",
    "> python3 matchcsv.py --help\n",
    "\n",
    "usage: Run route matching on CSVs containing date/time, latitude, and longitude information.\n",
    "       [-h] [-r] [-o OUTPUT] [--writepoints] [--writesegs]\n",
    "       [--processes PROCESSES] [--chunksize CHUNKSIZE] [-v]\n",
    "       infile\n",
    "\n",
    "positional arguments:\n",
    "  infile                Directory containing or a single CSV file with GPS\n",
    "                        Time (UTC), Latitude, and Longitude columns.\n",
    "\n",
    "optional arguments:\n",
    "  -h, --help            show this help message and exit\n",
    "  -r, --recursive       Walk directory recursively\n",
    "  -o OUTPUT, --output OUTPUT\n",
    "                        Specify summary output file, use '.csv' or '.tsv'\n",
    "                        extension.\n",
    "  --writepoints         Write point matches to FILE_osmpoints.csv\n",
    "  --writesegs           Write all segment matches to FILE_osmsegs.csv\n",
    "  --processes PROCESSES\n",
    "                        Specify number of worker processes.\n",
    "  --chunksize CHUNKSIZE\n",
    "                        Specify the multiprocesing chunksize parameter.\n",
    "  -v, --verbose         Verbose debug output.\n",
    "\n",
    "```\n",
    "\n",
    "Note that for this to work, you'll have to have your `dbconfig.py` setup (see below).\n",
    "\n",
    "## From R\n",
    "\n",
    "The command line interface is best run straight from the `testmatch.R` or `testmatch.Rmd`, which are already setup to handle the output and display it complete with scalebar and basemap. This is the preferred method for debugging the script. There is an RStudio project already setup for the directory.\n",
    "\n",
    "\n",
    "## From Python\n",
    "\n",
    "The package is loaded in Python like any normal Python module:"
   ]
  },
  {
   "cell_type": "code",
   "execution_count": 1,
   "metadata": {
    "collapsed": true
   },
   "outputs": [],
   "source": [
    "import pyosmroute as pyosm"
   ]
  },
  {
   "cell_type": "markdown",
   "metadata": {},
   "source": [
    "### The DataFrame\n",
    "\n",
    "At the heart of passing large amounts of data is the `DataFrame` class (here it would be accessed as `pyosm.DataFrame`). Usually this is accessed by the `read_csv()` function, which returns a `DataFrame`."
   ]
  },
  {
   "cell_type": "code",
   "execution_count": 2,
   "metadata": {
    "collapsed": false
   },
   "outputs": [
    {
     "data": {
      "text/html": [
       "<table><tr><td><strong>Time (UTC)</strong></td><td><strong>Latitude</strong></td><td><strong>Longitude</strong></td></tr>\n",
       "<tr><td>2016-03-02 17:37:51</td><td>45.0917807</td><td>-64.36975685</td></tr>\n",
       "<tr><td>2016-03-02 17:37:53</td><td>45.09165327</td><td>-64.36969589</td></tr>\n",
       "<tr><td>2016-03-02 17:37:54</td><td>45.09168978</td><td>-64.36977029</td></tr>\n",
       "<tr><td>2016-03-02 17:37:55</td><td>45.09167523</td><td>-64.36973768</td></tr>\n",
       "<tr><td>2016-03-02 17:37:56</td><td>45.09165241</td><td>-64.36973143</td></tr>\n",
       "<tr><td>2016-03-02 17:37:57</td><td>45.09169459</td><td>-64.36969024</td></tr></table>"
      ],
      "text/plain": [
       "Time (UTC)\tLatitude\tLongitude\n",
       "2016-03-02 17:37:51\t45.0917807\t-64.36975685\n",
       "2016-03-02 17:37:53\t45.09165327\t-64.36969589\n",
       "2016-03-02 17:37:54\t45.09168978\t-64.36977029\n",
       "2016-03-02 17:37:55\t45.09167523\t-64.36973768\n",
       "2016-03-02 17:37:56\t45.09165241\t-64.36973143\n",
       "2016-03-02 17:37:57\t45.09169459\t-64.36969024"
      ]
     },
     "execution_count": 2,
     "metadata": {},
     "output_type": "execute_result"
    }
   ],
   "source": [
    "gpsdata = pyosm.read_csv(\"example-data/test/2016-03-02 17_37_41_Car - Normal Drive_Android_start.csv\", skiprows=1)\n",
    "gpsdata.head()"
   ]
  },
  {
   "cell_type": "markdown",
   "metadata": {},
   "source": [
    "The `DataFrame` class supports most of the methods that the `pandas.DataFrame` class contains, but is much more lightweight (running a `pyosmroute.DataFrame` is about twice as fast in this context as the `pandas` version). Some quick examples:"
   ]
  },
  {
   "cell_type": "code",
   "execution_count": 3,
   "metadata": {
    "collapsed": false
   },
   "outputs": [
    {
     "data": {
      "text/plain": [
       "True"
      ]
     },
     "execution_count": 3,
     "metadata": {},
     "output_type": "execute_result"
    }
   ],
   "source": [
    "\"Latitude\" in gpsdata"
   ]
  },
  {
   "cell_type": "code",
   "execution_count": 4,
   "metadata": {
    "collapsed": false
   },
   "outputs": [
    {
     "data": {
      "text/plain": [
       "{'Latitude': 45.09167523,\n",
       " 'Longitude': -64.36973768,\n",
       " 'Time (UTC)': '2016-03-02 17:37:55'}"
      ]
     },
     "execution_count": 4,
     "metadata": {},
     "output_type": "execute_result"
    }
   ],
   "source": [
    "gpsdata.iloc[3]"
   ]
  },
  {
   "cell_type": "code",
   "execution_count": 5,
   "metadata": {
    "collapsed": false
   },
   "outputs": [
    {
     "data": {
      "text/html": [
       "<table><tr><td><strong>Time (UTC)</strong></td><td><strong>Latitude</strong></td><td><strong>Longitude</strong></td></tr>\n",
       "<tr><td>2016-03-02 17:37:55</td><td>45.09167523</td><td>-64.36973768</td></tr></table>"
      ],
      "text/plain": [
       "Time (UTC)\tLatitude\tLongitude\n",
       "2016-03-02 17:37:55\t45.09167523\t-64.36973768"
      ]
     },
     "execution_count": 5,
     "metadata": {},
     "output_type": "execute_result"
    }
   ],
   "source": [
    "gpsdata.iloc[3, :]"
   ]
  },
  {
   "cell_type": "code",
   "execution_count": 6,
   "metadata": {
    "collapsed": false
   },
   "outputs": [
    {
     "data": {
      "text/plain": [
       "176"
      ]
     },
     "execution_count": 6,
     "metadata": {},
     "output_type": "execute_result"
    }
   ],
   "source": [
    "len(gpsdata)"
   ]
  },
  {
   "cell_type": "code",
   "execution_count": 7,
   "metadata": {
    "collapsed": false
   },
   "outputs": [
    {
     "name": "stdout",
     "output_type": "stream",
     "text": [
      "Time (UTC)\n",
      "Latitude\n",
      "Longitude\n"
     ]
    }
   ],
   "source": [
    "for colname in gpsdata:\n",
    "    print(colname)"
   ]
  },
  {
   "cell_type": "code",
   "execution_count": 8,
   "metadata": {
    "collapsed": false
   },
   "outputs": [
    {
     "data": {
      "text/html": [
       "<table><tr><td><strong>Time (UTC)</strong></td><td><strong>Latitude</strong></td><td><strong>Longitude</strong></td><td><strong>newcol</strong></td></tr>\n",
       "<tr><td>2016-03-02 17:37:51</td><td>45.0917807</td><td>-64.36975685</td><td>50.0917807</td></tr>\n",
       "<tr><td>2016-03-02 17:37:53</td><td>45.09165327</td><td>-64.36969589</td><td>50.09165327</td></tr>\n",
       "<tr><td>2016-03-02 17:37:54</td><td>45.09168978</td><td>-64.36977029</td><td>50.09168978</td></tr>\n",
       "<tr><td>2016-03-02 17:37:55</td><td>45.09167523</td><td>-64.36973768</td><td>50.09167523</td></tr>\n",
       "<tr><td>2016-03-02 17:37:56</td><td>45.09165241</td><td>-64.36973143</td><td>50.09165241</td></tr>\n",
       "<tr><td>2016-03-02 17:37:57</td><td>45.09169459</td><td>-64.36969024</td><td>50.09169459</td></tr></table>"
      ],
      "text/plain": [
       "Time (UTC)\tLatitude\tLongitude\tnewcol\n",
       "2016-03-02 17:37:51\t45.0917807\t-64.36975685\t50.0917807\n",
       "2016-03-02 17:37:53\t45.09165327\t-64.36969589\t50.09165327\n",
       "2016-03-02 17:37:54\t45.09168978\t-64.36977029\t50.09168978\n",
       "2016-03-02 17:37:55\t45.09167523\t-64.36973768\t50.09167523\n",
       "2016-03-02 17:37:56\t45.09165241\t-64.36973143\t50.09165241\n",
       "2016-03-02 17:37:57\t45.09169459\t-64.36969024\t50.09169459"
      ]
     },
     "execution_count": 8,
     "metadata": {},
     "output_type": "execute_result"
    }
   ],
   "source": [
    "for row in gpsdata.itertuples():\n",
    "    # do something with each row...\n",
    "    pass\n",
    "\n",
    "# set columns\n",
    "gpsdata[\"newcol\"] = [lat+5 for lat in gpsdata[\"Latitude\"]]\n",
    "gpsdata.head()"
   ]
  },
  {
   "cell_type": "code",
   "execution_count": 9,
   "metadata": {
    "collapsed": true
   },
   "outputs": [],
   "source": [
    "# delete columns\n",
    "del gpsdata[\"newcol\"]"
   ]
  },
  {
   "cell_type": "markdown",
   "metadata": {},
   "source": [
    "The `DataFrame` object does quite a bit, but at heart it's just a collection of related information. This implementation is not really designed to be used in an analysis environment but is lightweight and is more or less interface compatible with the `pandas` version such that `pandas` objects can be used as input without breaking the code."
   ]
  },
  {
   "cell_type": "markdown",
   "metadata": {},
   "source": [
    "### Loading the OSM Database\n",
    "\n",
    "This database is accessed via the `PlanetDB` class, usually instantiated by `get_planet_db()`. It is possible to specify login credentials within `get_planet_db()`, however it is more efficient to specify them in the `dbconfig.py` file in the `pyosmroute` folder. Contained in the folder is a `dbconfig.example.py` that specifies the format:\n",
    "\n",
    "```Python\n",
    "DB_USER = \"osm\"\n",
    "DB_PASSWORD = \"osm\"\n",
    "DB_HOST = \"localhost\"\n",
    "DB_NAME = \"osm\"\n",
    "```\n",
    "\n",
    "Obviously, you'll want to change this to fit the configuration of the target machine. You can then get a database object like this:"
   ]
  },
  {
   "cell_type": "code",
   "execution_count": 10,
   "metadata": {
    "collapsed": false
   },
   "outputs": [
    {
     "data": {
      "text/plain": [
       "True"
      ]
     },
     "execution_count": 10,
     "metadata": {},
     "output_type": "execute_result"
    }
   ],
   "source": [
    "planetdb = pyosm.get_planet_db()\n",
    "planetdb.connect()\n",
    "planetdb.is_connected()"
   ]
  },
  {
   "cell_type": "markdown",
   "metadata": {},
   "source": [
    "Don't forget to `planetdb.disconnect()` when you're finished. Connecting to and disconnecting from the database takes enough time that it's worth maintaining a single connection per process.\n",
    "\n",
    "### Road Matching Methods\n",
    "\n",
    "There are two primary road-matching methods in the `pyosmroute` package: `on_road_percent()` and `osmmatch()`. The `on_road_percent()` function takes a `PlanetDB` and a `DataFrame` with the GPS information."
   ]
  },
  {
   "cell_type": "code",
   "execution_count": 11,
   "metadata": {
    "collapsed": false
   },
   "outputs": [
    {
     "data": {
      "text/plain": [
       "0.95454545454545459"
      ]
     },
     "execution_count": 11,
     "metadata": {},
     "output_type": "execute_result"
    }
   ],
   "source": [
    "pyosm.on_road_percent(planetdb, gpsdata)"
   ]
  },
  {
   "cell_type": "markdown",
   "metadata": {},
   "source": [
    "If your `DataFrame` contains non-standard column names (i.e. not `Latitude` and `Longitude`), you can pass these in as parameters as well:"
   ]
  },
  {
   "cell_type": "code",
   "execution_count": 12,
   "metadata": {
    "collapsed": false
   },
   "outputs": [
    {
     "data": {
      "text/plain": [
       "0.95454545454545459"
      ]
     },
     "execution_count": 12,
     "metadata": {},
     "output_type": "execute_result"
    }
   ],
   "source": [
    "pyosm.on_road_percent(planetdb, gpsdata, latitude_column=1, longitude_column=2)"
   ]
  },
  {
   "cell_type": "markdown",
   "metadata": {},
   "source": [
    "It's also possible to specify a radius (the default is 15 metres):"
   ]
  },
  {
   "cell_type": "code",
   "execution_count": 13,
   "metadata": {
    "collapsed": false
   },
   "outputs": [
    {
     "data": {
      "text/plain": [
       "[0.67613636363636365, 0.8125, 0.95454545454545459, 0.96590909090909094]"
      ]
     },
     "execution_count": 13,
     "metadata": {},
     "output_type": "execute_result"
    }
   ],
   "source": [
    "[pyosm.on_road_percent(planetdb, gpsdata, radius=radius) for radius in (5, 10, 15, 20)]"
   ]
  },
  {
   "cell_type": "markdown",
   "metadata": {},
   "source": [
    "It may be worth cleaning points by distance to get this paramter, which can be done using the `cleanpoints()` function."
   ]
  },
  {
   "cell_type": "code",
   "execution_count": 14,
   "metadata": {
    "collapsed": false
   },
   "outputs": [
    {
     "data": {
      "text/plain": [
       "[0.58620689655172409,\n",
       " 0.7931034482758621,\n",
       " 0.96551724137931039,\n",
       " 0.96551724137931039]"
      ]
     },
     "execution_count": 14,
     "metadata": {},
     "output_type": "execute_result"
    }
   ],
   "source": [
    "cleandf = pyosm.cleanpoints(gpsdata, min_distance=30)\n",
    "[pyosm.on_road_percent(planetdb, cleandf, radius=radius) for radius in (5, 10, 15, 20)]"
   ]
  },
  {
   "cell_type": "markdown",
   "metadata": {},
   "source": [
    "The `cleanpoints()` function also takes some other parameters involving max and min velocities and lat/lon columns like `on_road_percent()`. This function is used internally in the `osmmatch()` function; is it not necessary to clean data before putting it into the function.\n",
    "\n",
    "### Notes on Logging\n",
    "\n",
    "The `pyosmroute` module uses Python's `logging` module to do its logging, but won't do any logging unless you explicitly tell it to do so. Now we can see a little more of what the `cleanpoints()` function is actually doing. This is logged to `sys.stderr` by default, but you can pass in any keyword arguments to be passed to `logging.basicConfig()`."
   ]
  },
  {
   "cell_type": "code",
   "execution_count": 15,
   "metadata": {
    "collapsed": true
   },
   "outputs": [],
   "source": [
    "pyosm.config_logger()\n",
    "cleandf = pyosm.cleanpoints(gpsdata, min_distance=30)"
   ]
  },
  {
   "cell_type": "markdown",
   "metadata": {},
   "source": [
    "### Map Matching\n",
    "\n",
    "Map matching is accessed via the `osmmatch()` method. Its basic usage and ouput are straightforward (except `xte`, which stands for cross track error, or distance from the route)."
   ]
  },
  {
   "cell_type": "code",
   "execution_count": 16,
   "metadata": {
    "collapsed": false
   },
   "outputs": [
    {
     "data": {
      "text/plain": [
       "{'cleaned_points': 29,\n",
       " 'gps_distance': 959.58746357071789,\n",
       " 'in_points': 176,\n",
       " 'match_time': 0.28595399856567383,\n",
       " 'matched_points': 29,\n",
       " 'matched_proportion': 1.0,\n",
       " 'mean_xte': 3.896052922553324,\n",
       " 'result': 'ok',\n",
       " 'segment_distance': 1014.4255969295274,\n",
       " 'started': '2016-03-10 06:12:14 +0000',\n",
       " 'summary_time': 0.0072879791259765625}"
      ]
     },
     "execution_count": 16,
     "metadata": {},
     "output_type": "execute_result"
    }
   ],
   "source": [
    "stats, points, segs = pyosm.osmmatch(planetdb, gpsdata)\n",
    "stats"
   ]
  },
  {
   "cell_type": "markdown",
   "metadata": {},
   "source": [
    "The `points` and `segs` output are both `DataFrame`s. The `points` output describes the specific segment matched to each GPS point that was used to perform matching. Columns are described here:\n",
    "\n",
    "**alongtrack**: How far from **node1** towards **node2** the nearest point on the segment is.\n",
    "\n",
    "**bearing**: The bearing of the segment (from **node1** to **node2).\n",
    "\n",
    "**dist_from_route**: How far the point on the route is from the actual GPS point.\n",
    "\n",
    "**distance**: The distance from **node1** to **node2**.\n",
    "\n",
    "**name**: The value of the *name* tag. Useful for debugging.\n",
    "\n",
    "**node1**, **node2**: The OSM ID number for the node at the start and end, respectively.\n",
    "\n",
    "**oneway**: `True` if the route can only be traced from **node1** to **node2**.\n",
    "\n",
    "**segment**: Which segment in the **wayid**.\n",
    "\n",
    "**typetag**: The value of the *highway* tag for **wayid** (e.g. `motorway`, `trunk`, etc.)\n",
    "\n",
    "**xte**: The cross-track error of the GPS point with regard to **node1** and **node2**. Mostly the same as **dist_from_route**.\n",
    "\n",
    "**p1, p2**: The locations of **node1** and **node2**.\n",
    "\n",
    "**pt_onseg**: The location of the GPS point if it were on the segment.\n",
    "\n",
    "**gps...**: All the columns passed into the original `DataFrame`. Guaranteed are **gps_Latitude**, **gps_Longitude**, **gps__datetime** (as a Python `datetime` object), **gps__bearing**, **gps__distance**, and **gps__original_index**, which refers to the row index of the GPS point with regard to the original `DataFrame`.\n",
    "\n",
    "**waytag...**: Values of the **wayid** tags."
   ]
  },
  {
   "cell_type": "code",
   "execution_count": 17,
   "metadata": {
    "collapsed": false
   },
   "outputs": [
    {
     "data": {
      "text/html": [
       "<table><tr><td><strong>alongtrack</strong></td><td><strong>bearing</strong></td><td><strong>dist_from_route</strong></td><td><strong>distance</strong></td><td><strong>name</strong></td><td><strong>node1</strong></td><td><strong>node2</strong></td><td><strong>oneway</strong></td><td><strong>segment</strong></td><td><strong>typetag</strong></td><td><strong>wayid</strong></td><td><strong>weight</strong></td><td><strong>xte</strong></td><td><strong>p1_lon</strong></td><td><strong>p1_lat</strong></td><td><strong>p2_lon</strong></td><td><strong>p2_lat</strong></td><td><strong>pt_onseg_lon</strong></td><td><strong>pt_onseg_lat</strong></td><td><strong>gps_Latitude</strong></td><td><strong>gps_Longitude</strong></td><td><strong>gps_Time (UTC)</strong></td><td><strong>gps__bearing</strong></td><td><strong>gps__datetime</strong></td><td><strong>gps__distance</strong></td><td><strong>gps__original_index</strong></td><td><strong>gps__rotation</strong></td><td><strong>gps__velocity</strong></td><td><strong>waytag_lanes</strong></td><td><strong>waytag_source</strong></td><td><strong>waytag_name</strong></td><td><strong>waytag_surface</strong></td><td><strong>waytag_highway</strong></td></tr>\n",
       "<tr><td>2.23854439378</td><td>74.6450684114</td><td>15.8905509385</td><td>3.1957372431</td><td>None</td><td>3624069719</td><td>3624069724</td><td>False</td><td>20</td><td>unclassified</td><td>357012198</td><td>1</td><td>15.8905507538</td><td>-64.3697307537</td><td>45.091637562</td><td>-64.3696914973</td><td>45.0916451723</td><td>-64.3697032554</td><td>45.0916428929</td><td>45.0917807</td><td>-64.36975685</td><td>2016-03-02 17:37:51</td><td>66.6926429519</td><td>2016-03-02 17:37:51</td><td>nan</td><td>0</td><td>1.92087908237</td><td>1.26275096175</td><td>2</td><td>NRCan-CanVec-10.0</td><td></td><td>paved</td><td>unclassified</td></tr>\n",
       "<tr><td>0.723006684459</td><td>348.718992698</td><td>6.67381561091</td><td>2.73967742269</td><td>None</td><td>3624069825</td><td>3624069834</td><td>False</td><td>40</td><td>unclassified</td><td>357012198</td><td>1</td><td>6.67381558494</td><td>-64.3693023471</td><td>45.091898403</td><td>-64.3693091743</td><td>45.0919225655</td><td>-64.3693041488</td><td>45.0919047795</td><td>45.09189303</td><td>-64.36938752</td><td>2016-03-02 17:38:16</td><td>114.714620011</td><td>2016-03-02 17:38:16</td><td>31.5687740437</td><td>21</td><td>2.65564234267</td><td>1.25486265933</td><td>2</td><td>NRCan-CanVec-10.0</td><td></td><td>paved</td><td>unclassified</td></tr>\n",
       "<tr><td>31.0891424822</td><td>341.476092119</td><td>1.59826207608</td><td>38.7551944322</td><td>None</td><td>2542694962</td><td>3624069741</td><td>False</td><td>5</td><td>service</td><td>247371551</td><td>1</td><td>1.59827339691</td><td>-64.3690744445</td><td>45.0913455811</td><td>-64.3692312904</td><td>45.0916760572</td><td>-64.3692002652</td><td>45.0916106867</td><td>45.09160612</td><td>-64.36921957</td><td>2016-03-02 17:38:28</td><td>164.951409631</td><td>2016-03-02 17:38:28</td><td>34.5198996316</td><td>33</td><td>3.20753363665</td><td>3.45601032391</td><td></td><td></td><td></td><td></td><td>service</td></tr>\n",
       "<tr><td>-0.0</td><td>341.476092119</td><td>7.94447404041</td><td>38.7551944322</td><td>None</td><td>2542694962</td><td>3624069741</td><td>False</td><td>5</td><td>service</td><td>247371551</td><td>1</td><td>7.94445882325</td><td>-64.3690744445</td><td>45.0913455811</td><td>-64.3692312904</td><td>45.0916760572</td><td>-64.3690744445</td><td>45.0913455811</td><td>45.09132275</td><td>-64.36917034</td><td>2016-03-02 17:38:35</td><td>175.657759108</td><td>2016-03-02 17:38:35</td><td>31.7454619601</td><td>40</td><td>0.158127083996</td><td>5.32494236069</td><td></td><td></td><td></td><td></td><td>service</td></tr>\n",
       "<tr><td>19.6727191847</td><td>356.365949552</td><td>2.01841889933</td><td>23.1416456661</td><td>None</td><td>2542694952</td><td>2542694954</td><td>False</td><td>2</td><td>service</td><td>247371551</td><td>1</td><td>2.01841957925</td><td>-64.3691163959</td><td>45.0908576956</td><td>-64.3691350808</td><td>45.0910653947</td><td>-64.3691322799</td><td>45.0910342606</td><td>45.09103311</td><td>-64.36915794</td><td>2016-03-02 17:38:40</td><td>166.848934639</td><td>2016-03-02 17:38:40</td><td>32.2212499875</td><td>45</td><td>-1.28637246974</td><td>1.65780809845</td><td></td><td></td><td></td><td></td><td>service</td></tr>\n",
       "<tr><td>14.8047532051</td><td>340.698757115</td><td>5.99144896527</td><td>30.5303607331</td><td>None</td><td>2542694950</td><td>2542694952</td><td>False</td><td>1</td><td>service</td><td>247371551</td><td>1</td><td>5.99143750947</td><td>-64.3689878469</td><td>45.0905985622</td><td>-64.3691163959</td><td>45.0908576956</td><td>-64.3690501828</td><td>45.090724221</td><td>45.09074203</td><td>-64.36897815</td><td>2016-03-02 17:39:15</td><td>124.202860318</td><td>2016-03-02 17:39:15</td><td>35.3100868925</td><td>79</td><td>-2.06725787148</td><td>1.38043172741</td><td></td><td></td><td></td><td></td><td>service</td></tr></table>"
      ],
      "text/plain": [
       "alongtrack\tbearing\tdist_from_route\tdistance\tname\tnode1\tnode2\toneway\tsegment\ttypetag\twayid\tweight\txte\tp1_lon\tp1_lat\tp2_lon\tp2_lat\tpt_onseg_lon\tpt_onseg_lat\tgps_Latitude\tgps_Longitude\tgps_Time (UTC)\tgps__bearing\tgps__datetime\tgps__distance\tgps__original_index\tgps__rotation\tgps__velocity\twaytag_lanes\twaytag_source\twaytag_name\twaytag_surface\twaytag_highway\n",
       "2.23854439378\t74.6450684114\t15.8905509385\t3.1957372431\tNone\t3624069719\t3624069724\tFalse\t20\tunclassified\t357012198\t1\t15.8905507538\t-64.3697307537\t45.091637562\t-64.3696914973\t45.0916451723\t-64.3697032554\t45.0916428929\t45.0917807\t-64.36975685\t2016-03-02 17:37:51\t66.6926429519\t2016-03-02 17:37:51\tnan\t0\t1.92087908237\t1.26275096175\t2\tNRCan-CanVec-10.0\t\tpaved\tunclassified\n",
       "0.723006684459\t348.718992698\t6.67381561091\t2.73967742269\tNone\t3624069825\t3624069834\tFalse\t40\tunclassified\t357012198\t1\t6.67381558494\t-64.3693023471\t45.091898403\t-64.3693091743\t45.0919225655\t-64.3693041488\t45.0919047795\t45.09189303\t-64.36938752\t2016-03-02 17:38:16\t114.714620011\t2016-03-02 17:38:16\t31.5687740437\t21\t2.65564234267\t1.25486265933\t2\tNRCan-CanVec-10.0\t\tpaved\tunclassified\n",
       "31.0891424822\t341.476092119\t1.59826207608\t38.7551944322\tNone\t2542694962\t3624069741\tFalse\t5\tservice\t247371551\t1\t1.59827339691\t-64.3690744445\t45.0913455811\t-64.3692312904\t45.0916760572\t-64.3692002652\t45.0916106867\t45.09160612\t-64.36921957\t2016-03-02 17:38:28\t164.951409631\t2016-03-02 17:38:28\t34.5198996316\t33\t3.20753363665\t3.45601032391\t\t\t\t\tservice\n",
       "-0.0\t341.476092119\t7.94447404041\t38.7551944322\tNone\t2542694962\t3624069741\tFalse\t5\tservice\t247371551\t1\t7.94445882325\t-64.3690744445\t45.0913455811\t-64.3692312904\t45.0916760572\t-64.3690744445\t45.0913455811\t45.09132275\t-64.36917034\t2016-03-02 17:38:35\t175.657759108\t2016-03-02 17:38:35\t31.7454619601\t40\t0.158127083996\t5.32494236069\t\t\t\t\tservice\n",
       "19.6727191847\t356.365949552\t2.01841889933\t23.1416456661\tNone\t2542694952\t2542694954\tFalse\t2\tservice\t247371551\t1\t2.01841957925\t-64.3691163959\t45.0908576956\t-64.3691350808\t45.0910653947\t-64.3691322799\t45.0910342606\t45.09103311\t-64.36915794\t2016-03-02 17:38:40\t166.848934639\t2016-03-02 17:38:40\t32.2212499875\t45\t-1.28637246974\t1.65780809845\t\t\t\t\tservice\n",
       "14.8047532051\t340.698757115\t5.99144896527\t30.5303607331\tNone\t2542694950\t2542694952\tFalse\t1\tservice\t247371551\t1\t5.99143750947\t-64.3689878469\t45.0905985622\t-64.3691163959\t45.0908576956\t-64.3690501828\t45.090724221\t45.09074203\t-64.36897815\t2016-03-02 17:39:15\t124.202860318\t2016-03-02 17:39:15\t35.3100868925\t79\t-2.06725787148\t1.38043172741\t\t\t\t\tservice"
      ]
     },
     "execution_count": 17,
     "metadata": {},
     "output_type": "execute_result"
    }
   ],
   "source": [
    "points.head()"
   ]
  },
  {
   "cell_type": "markdown",
   "metadata": {},
   "source": [
    "The `segs` output is similar, but contains a complete list of the segments that make up the route. Only several columns are new here.\n",
    "\n",
    "**direction**: Either 1, -1, or 0. 1 if the way was traced from **node1** to **node2**, -1 if the route was traced from **node2** to **node2**, or 0 if neither.\n",
    "\n",
    "**nodetag...**: Similar to waytag, but refers to the tags of **node2**. Signals, if in the OSM database, would be referred to here."
   ]
  },
  {
   "cell_type": "code",
   "execution_count": 18,
   "metadata": {
    "collapsed": false
   },
   "outputs": [
    {
     "data": {
      "text/html": [
       "<table><tr><td><strong>wayid</strong></td><td><strong>segment</strong></td><td><strong>node1</strong></td><td><strong>node2</strong></td><td><strong>typetag</strong></td><td><strong>name</strong></td><td><strong>distance</strong></td><td><strong>bearing</strong></td><td><strong>p1_lon</strong></td><td><strong>p1_lat</strong></td><td><strong>p2_lon</strong></td><td><strong>p2_lat</strong></td><td><strong>direction</strong></td><td><strong>waytag_lanes</strong></td><td><strong>waytag_source</strong></td><td><strong>waytag_name</strong></td><td><strong>waytag_surface</strong></td><td><strong>waytag_highway</strong></td></tr>\n",
       "<tr><td>357012198</td><td>20</td><td>3624069719</td><td>3624069724</td><td>unclassified</td><td>None</td><td>3.1957372431</td><td>74.6450684114</td><td>-64.3697307537</td><td>45.091637562</td><td>-64.3696914973</td><td>45.0916451723</td><td>1</td><td>2</td><td>NRCan-CanVec-10.0</td><td></td><td>paved</td><td>unclassified</td></tr>\n",
       "<tr><td>357012198</td><td>21</td><td>3624069724</td><td>3624069728</td><td>unclassified</td><td>None</td><td>3.1726935802</td><td>76.2417253587</td><td>-64.3696914973</td><td>45.0916451723</td><td>-64.3696522409</td><td>45.0916519581</td><td>1</td><td>2</td><td>NRCan-CanVec-10.0</td><td></td><td>paved</td><td>unclassified</td></tr>\n",
       "<tr><td>357012198</td><td>22</td><td>3624069728</td><td>3624069731</td><td>unclassified</td><td>None</td><td>3.1994999765</td><td>74.4015176906</td><td>-64.3696522409</td><td>45.0916519581</td><td>-64.3696129845</td><td>45.0916596952</td><td>1</td><td>2</td><td>NRCan-CanVec-10.0</td><td></td><td>paved</td><td>unclassified</td></tr>\n",
       "<tr><td>357012198</td><td>23</td><td>3624069731</td><td>3624069735</td><td>unclassified</td><td>None</td><td>3.1889364185</td><td>74.6115184091</td><td>-64.3696129845</td><td>45.0916596952</td><td>-64.369573818</td><td>45.0916673055</td><td>1</td><td>2</td><td>NRCan-CanVec-10.0</td><td></td><td>paved</td><td>unclassified</td></tr>\n",
       "<tr><td>357012198</td><td>24</td><td>3624069735</td><td>3624069740</td><td>unclassified</td><td>None</td><td>3.19081452708</td><td>74.4894312542</td><td>-64.369573818</td><td>45.0916673055</td><td>-64.3695346515</td><td>45.0916749791</td><td>1</td><td>2</td><td>NRCan-CanVec-10.0</td><td></td><td>paved</td><td>unclassified</td></tr>\n",
       "<tr><td>357012198</td><td>25</td><td>3624069740</td><td>3624069743</td><td>unclassified</td><td>None</td><td>3.32184257816</td><td>73.2191900744</td><td>-64.3695346515</td><td>45.0916749791</td><td>-64.3694941374</td><td>45.0916836041</td><td>1</td><td>2</td><td>NRCan-CanVec-10.0</td><td></td><td>paved</td><td>unclassified</td></tr></table>"
      ],
      "text/plain": [
       "wayid\tsegment\tnode1\tnode2\ttypetag\tname\tdistance\tbearing\tp1_lon\tp1_lat\tp2_lon\tp2_lat\tdirection\twaytag_lanes\twaytag_source\twaytag_name\twaytag_surface\twaytag_highway\n",
       "357012198\t20\t3624069719\t3624069724\tunclassified\tNone\t3.1957372431\t74.6450684114\t-64.3697307537\t45.091637562\t-64.3696914973\t45.0916451723\t1\t2\tNRCan-CanVec-10.0\t\tpaved\tunclassified\n",
       "357012198\t21\t3624069724\t3624069728\tunclassified\tNone\t3.1726935802\t76.2417253587\t-64.3696914973\t45.0916451723\t-64.3696522409\t45.0916519581\t1\t2\tNRCan-CanVec-10.0\t\tpaved\tunclassified\n",
       "357012198\t22\t3624069728\t3624069731\tunclassified\tNone\t3.1994999765\t74.4015176906\t-64.3696522409\t45.0916519581\t-64.3696129845\t45.0916596952\t1\t2\tNRCan-CanVec-10.0\t\tpaved\tunclassified\n",
       "357012198\t23\t3624069731\t3624069735\tunclassified\tNone\t3.1889364185\t74.6115184091\t-64.3696129845\t45.0916596952\t-64.369573818\t45.0916673055\t1\t2\tNRCan-CanVec-10.0\t\tpaved\tunclassified\n",
       "357012198\t24\t3624069735\t3624069740\tunclassified\tNone\t3.19081452708\t74.4894312542\t-64.369573818\t45.0916673055\t-64.3695346515\t45.0916749791\t1\t2\tNRCan-CanVec-10.0\t\tpaved\tunclassified\n",
       "357012198\t25\t3624069740\t3624069743\tunclassified\tNone\t3.32184257816\t73.2191900744\t-64.3695346515\t45.0916749791\t-64.3694941374\t45.0916836041\t1\t2\tNRCan-CanVec-10.0\t\tpaved\tunclassified"
      ]
     },
     "execution_count": 18,
     "metadata": {},
     "output_type": "execute_result"
    }
   ],
   "source": [
    "segs.head()"
   ]
  },
  {
   "cell_type": "markdown",
   "metadata": {},
   "source": [
    "### Road Matching Parameters\n",
    "\n",
    "Match timestamped GPS points to roads in the OSM database. The matching is based a Hidden Markov Model with emission probabilities based on the distance to the road segment, and transition probabilities based on the difference between the GPS distance between two points and what the driving distance would be. This model is explained in Microsoft Research paper by Paul Newson and John Krumm entitled 'Hidden Markov Map Matching Through Noise and Sparseness'. This implementation of what is explained in the paper has two differences. First, emission probability has a component that is based on the difference between the direction of the segment and the direction based on the two surrounding GPS points. Second, solving the Hidden Markov Model implements a 'lookahead' parameter, such that a next step can be chosen based on looking several steps into the future (see the viterbi_lookahead parameter). Driving distances are based on the pyroutelib2 library (https://github.com/gaulinmp/pyroutelib2), although\n",
    "considerable modifications had to be made to accommodate the needs of this function (mostly driving distances\n",
    "between adjacent segments and connecting to the database instead of reading a downloaded XML). The `osmmatch()` function takes the following arguments:\n",
    "\n",
    "```python\n",
    "osmmatch(db, gpsdf, lat_column=\"Latitude\", lon_column=\"Longitude\", unparsed_datetime_col=0,\n",
    "             searchradius=50, minpoints=10, maxvel=250, sigmaZ=10, beta=10.0, maxiter=1,\n",
    "             minpointdistance=30, paramter_window=3, bearing_penalty_weight=1, viterbi_lookahead=1,\n",
    "             lazy_probabilities=True, points_summary=True, segments_summary=True):\n",
    "```\n",
    "\n",
    "\n",
    "**db**: a PlanetDB object, as generated by get_planet_db() or by instantiating the object yourself.\n",
    "\n",
    "**gpsdf**: A DataFrame (either `pyosmroute.DataFrame` or `pandas.DataFrame`, although the former is about twice as fast) of GPS points with at least date/time, longitude, and latitude columns.\n",
    "\n",
    "**lat_column**: A column reference to gpsdf specifying which column contains the latitude information.\n",
    "\n",
    "**lon_column**: A column reference to gpsdf specifying which column contains the longitude information.\n",
    "\n",
    "**unparsed_datetime_col**: A column reference to gpsdf specifying which column contains the datetime information. The format must be '2016-03-01 20:59:46' (extra letters are stripped).\n",
    "\n",
    "**searchradius**: The radius around each GPS point to search for roads. The original paper uses a radius of 200 metres, around 50 seems to work well though.\n",
    "\n",
    "**minpoints**: After cleaning the GPS data such that there are data points ever 'minpointdistance' metres, if fewer than this number of points remain, no matching is performed. For debugging it's good to keep this low, but realistically any trip with less than about 20 points isn't worth matching.\n",
    "\n",
    "**maxvel**: The maximum assumed velocity (m/s). This value is used to terminate routing between two points once the route would require the driver to travel over this speed. GPS points are noisy enough that this must be about twice the maximum speed. Anything under 250 caused unnecessary gaps during testing.\n",
    "\n",
    "**sigmaZ**: The standard deviation of GPS error (metres). A higher value places less emphasis on how close a point is to any given segment.\n",
    "\n",
    "**beta**: The standard deviation of the difference between the GPS distance and the driving distance between two points on a segment. Increasing this allows for less efficient routes to be considered.\n",
    "\n",
    "**maxiter**: Problematic points can be removed, but this requires that transition probabilities are calculated twice, which can be slow.\n",
    "\n",
    "**minpointdistance**: Prior to performing analysis, GPS data are cleaned such that no two points are closer than this distance. The original paper suggests setting this value to sigmaZ * 2, so far sigmaZ * 3 has produced better results.\n",
    "\n",
    "**paramter_window**: Velocities, rotations, and bearings are calculated according to this window. 3 is the default value.\n",
    "\n",
    "**bearing_penalty_weight**: Use this to increase or decrease the effect of a bearing difference on the emission probability of a point. A number between 0 and 1 is preferred, although higher than 1 will not cause errors.\n",
    "**viterbi_lookahead**: The length of the path to consider when making decisions about the best path through the Hidden Markov Model. 0 is fastest, 1 produces better results, and 2 appears to be quite slow.\n",
    "\n",
    "**lazy_probabilities**: True if only transition probabilities that are used should be calculated. If lookahead is 0, this is significantly faster. If lookahead is 1 or greater, most transition probabilties are used, so this does not lead to a performance increase.\n",
    "\n",
    "**points_summary**: True if the list of point/segment matches should be returned, False otherwise.\n",
    "\n",
    "**segments_summary**: True if the complete list of segments should be returned, False otherwise.\n",
    "\n",
    "## Disconnect from the database!\n",
    "\n",
    "Don't forget!"
   ]
  },
  {
   "cell_type": "code",
   "execution_count": 19,
   "metadata": {
    "collapsed": false
   },
   "outputs": [
    {
     "data": {
      "text/plain": [
       "True"
      ]
     },
     "execution_count": 19,
     "metadata": {},
     "output_type": "execute_result"
    }
   ],
   "source": [
    "planetdb.disconnect()"
   ]
  }
 ],
 "metadata": {
  "kernelspec": {
   "display_name": "Python 3",
   "language": "python",
   "name": "python3"
  },
  "language_info": {
   "codemirror_mode": {
    "name": "ipython",
    "version": 3
   },
   "file_extension": ".py",
   "mimetype": "text/x-python",
   "name": "python",
   "nbconvert_exporter": "python",
   "pygments_lexer": "ipython3",
   "version": "3.4.2"
  }
 },
 "nbformat": 4,
 "nbformat_minor": 0
}
